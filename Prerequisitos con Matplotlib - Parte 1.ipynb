{
 "cells": [
  {
   "cell_type": "markdown",
   "metadata": {},
   "source": [
    "# Prerequisitos con Matplotlib - Parte 1\n",
    "\n",
    "Necesitamos visualizar cualquier tipo de información, asi sea que simplemente queramos ver un gráfico o establecer mejores decisiones basadas en datos visuales.  Como dicen todos, lo que no se puede medir, no se puede mejorar.\n",
    "\n",
    "Las visualizaciones nos ayudan a tener una idea del comportamiento de nuestra información y revelan patrones que con estadística no es tan sencillo de ver.  También proveen una intución de la estructura de datos y es de ayuda para nuestras investigaciones.\n",
    "\n",
    "Lo otro, visualizaciones sobre nuevas formas de visualización genera mejor manera de explorar los datos.  Adicionalmente, provee una manera fácil de compartir entre nuestros colegas que encontramos.\n",
    "\n",
    "Aquí utilizaremos nuestra vieja herramienta pandas pero también matplotlib y seaborn.\n",
    "\n",
    "<img src=\"imgs/matplotlib.PNG\" />\n",
    "<img src=\"imgs/seaborn.PNG\" />"
   ]
  },
  {
   "cell_type": "markdown",
   "metadata": {},
   "source": [
    "### Visualización de una variable\n",
    "\n",
    "Normalmente se empieza de lo más fácil a modo visual, podemos entonces realizar una visualización de una simple variable y después movernos a visualizaciones más complejas.\n",
    "\n",
    "Cuando se visualizan datos se debe ser analítico, si observan valores que no están dentro de sus posibles respuestas o algo malformado en su gráfica, quizá ud. necesita mayor depuración de sus datos o mejor análisis de ellos.\n",
    "\n",
    "Aquí nos concentraremos en bar charts (para un estudio cuantitativo) e histogramas (para un estudio cualitativo)."
   ]
  },
  {
   "cell_type": "markdown",
   "metadata": {},
   "source": [
    "Vamos a organizar la data por medio de columnas, donde cada columna es una variable y cada fila es parte del dato de cada variable.\n",
    "\n",
    "<img src=\"imgs/unified.PNG\" />"
   ]
  },
  {
   "cell_type": "markdown",
   "metadata": {},
   "source": [
    "La información puede venir dividida en diferentes tipos de datos...\n",
    "\n",
    "- Nominal\n",
    "- Ordinal\n",
    "- Intervalo\n",
    "- Racional\n",
    "\n",
    "Nominal y ordinal son conocidas como informaciones cualitativas/categoricas y las dos ultimas se les conoce como cuantitativa/numérica.\n",
    "\n",
    "<img src=\"imgs/typesofdata.PNG\" width=\"60%\" />\n",
    "\n",
    "Este ultimo tipo de data (intervalo y racional) incluye dos subdivisiones más (discreto o continuo).\n",
    "\n",
    "Los datos categóricos por lo general son datos no numéricos (nombres, titulos de música).\n",
    "\n",
    "La data nominal podemos dar el ejemplo de genero de música.\n",
    "\n",
    "Los datos ordinales son también etiquetados pero estos incluyen orden en su generación\n",
    "\n",
    "<img src=\"imgs/ordinaldata.PNG\" width=\"50%\" />\n",
    "\n",
    "A pesar de que se recolectan numericamente no se debe realizar operaciones con ellas de manera numérica.\n",
    "\n",
    "<img src=\"imgs/quantitative_qualitative.PNG\" width=\"75%\" />\n",
    "\n",
    "La data cuantitativa son resultados por ejemplo de operaciones matemáticas.  Para los tipos de datos de intervalo los diferentes tipos de datos y valores, su diferencia y sus resultados simbolizan algo.\n",
    "\n",
    "<img src=\"imgs/intervaldata.PNG\" width=\"20%\" />\n",
    "\n",
    "Los años, la temperatura en celcius.\n",
    "\n",
    "Racionales tambien son valores numéricos en donde la diferencia por medio de sus razones es significativa.  A pesar de que pareciera que la temperatura lo es, esta no es... No podemos decir que 1°C es 100 veces menos caliente que 100°C.  Un ejemplo de una variable racional es el peso, que si es consistente a medida que avanza su valor.\n",
    "\n",
    "Las variables como cuantitativas las podemos clasificar como discretas o continuas; las variables discretas pueden adquirir en solo valores especificos mientras que las continuas no tienen un valor único o especifico a la cual se deban ajustar.\n",
    "\n",
    "<img src=\"imgs/continuousdiscrete.PNG\" />\n",
    "\n",
    "Finalmente tenemos un conjunto de ejemplos:\n",
    "- Discreta y por intervalos: años\n",
    "- Discreta y por radios: cuenta de palabras\n",
    "- Continua y por intervalos: temperatura\n",
    "- Continua y por razones: peso"
   ]
  },
  {
   "cell_type": "markdown",
   "metadata": {},
   "source": [
    "#### Gráficos de Barras\n",
    "\n",
    "Si nos interesa una visualización de datos cualitativos lo mejor es utilizar un gráfico de barras.  Normalmente estas barras se grafican empezando desde 0 para no malinterpretar los datos y que se observe que un dato es *N* veces mayor que otro.\n",
    "\n",
    "<img src=\"imgs/barchart.PNG\" width=\"60%\" />\n",
    "\n",
    "Para datos nominales se visualizan en orden de frecuencia empezando desde el más común primero permitiendonos ver cual categoría es la más común y a cual se compara.\n",
    "\n",
    "<img src=\"imgs/nominaldatachart.PNG\" width=\"50%\" />\n",
    "\n",
    "Para datos ordinales nos interesa ver todo el espectro de datos y no necesariamente el más frecuente de primero.\n",
    "\n",
    "<img src=\"imgs/ordinaldata1.PNG\" widht=\"30%\" />\n",
    "\n",
    "Si vemos ahora el segundo ejemplo de gráfico, cuando son muchos datos categoricos y también largos, nos conviene ubicar la gráfica verticalmente"
   ]
  },
  {
   "cell_type": "code",
   "execution_count": 1,
   "metadata": {},
   "outputs": [],
   "source": [
    "import numpy as np\n",
    "import pandas as pd\n",
    "import matplotlib.pyplot as plt\n",
    "import seaborn as sb\n",
    "\n",
    "%matplotlib inline"
   ]
  },
  {
   "cell_type": "code",
   "execution_count": 2,
   "metadata": {},
   "outputs": [
    {
     "name": "stdout",
     "output_type": "stream",
     "text": [
      "(800, 13)\n"
     ]
    },
    {
     "data": {
      "text/html": [
       "<div>\n",
       "<style scoped>\n",
       "    .dataframe tbody tr th:only-of-type {\n",
       "        vertical-align: middle;\n",
       "    }\n",
       "\n",
       "    .dataframe tbody tr th {\n",
       "        vertical-align: top;\n",
       "    }\n",
       "\n",
       "    .dataframe thead th {\n",
       "        text-align: right;\n",
       "    }\n",
       "</style>\n",
       "<table border=\"1\" class=\"dataframe\">\n",
       "  <thead>\n",
       "    <tr style=\"text-align: right;\">\n",
       "      <th></th>\n",
       "      <th>#</th>\n",
       "      <th>Name</th>\n",
       "      <th>Type 1</th>\n",
       "      <th>Type 2</th>\n",
       "      <th>Total</th>\n",
       "      <th>HP</th>\n",
       "      <th>Attack</th>\n",
       "      <th>Defense</th>\n",
       "      <th>Sp. Atk</th>\n",
       "      <th>Sp. Def</th>\n",
       "      <th>Speed</th>\n",
       "      <th>Generation</th>\n",
       "      <th>Legendary</th>\n",
       "    </tr>\n",
       "  </thead>\n",
       "  <tbody>\n",
       "    <tr>\n",
       "      <th>0</th>\n",
       "      <td>1</td>\n",
       "      <td>Bulbasaur</td>\n",
       "      <td>Grass</td>\n",
       "      <td>Poison</td>\n",
       "      <td>318</td>\n",
       "      <td>45</td>\n",
       "      <td>49</td>\n",
       "      <td>49</td>\n",
       "      <td>65</td>\n",
       "      <td>65</td>\n",
       "      <td>45</td>\n",
       "      <td>1</td>\n",
       "      <td>False</td>\n",
       "    </tr>\n",
       "    <tr>\n",
       "      <th>1</th>\n",
       "      <td>2</td>\n",
       "      <td>Ivysaur</td>\n",
       "      <td>Grass</td>\n",
       "      <td>Poison</td>\n",
       "      <td>405</td>\n",
       "      <td>60</td>\n",
       "      <td>62</td>\n",
       "      <td>63</td>\n",
       "      <td>80</td>\n",
       "      <td>80</td>\n",
       "      <td>60</td>\n",
       "      <td>1</td>\n",
       "      <td>False</td>\n",
       "    </tr>\n",
       "    <tr>\n",
       "      <th>2</th>\n",
       "      <td>3</td>\n",
       "      <td>Venusaur</td>\n",
       "      <td>Grass</td>\n",
       "      <td>Poison</td>\n",
       "      <td>525</td>\n",
       "      <td>80</td>\n",
       "      <td>82</td>\n",
       "      <td>83</td>\n",
       "      <td>100</td>\n",
       "      <td>100</td>\n",
       "      <td>80</td>\n",
       "      <td>1</td>\n",
       "      <td>False</td>\n",
       "    </tr>\n",
       "    <tr>\n",
       "      <th>3</th>\n",
       "      <td>3</td>\n",
       "      <td>VenusaurMega Venusaur</td>\n",
       "      <td>Grass</td>\n",
       "      <td>Poison</td>\n",
       "      <td>625</td>\n",
       "      <td>80</td>\n",
       "      <td>100</td>\n",
       "      <td>123</td>\n",
       "      <td>122</td>\n",
       "      <td>120</td>\n",
       "      <td>80</td>\n",
       "      <td>1</td>\n",
       "      <td>False</td>\n",
       "    </tr>\n",
       "    <tr>\n",
       "      <th>4</th>\n",
       "      <td>4</td>\n",
       "      <td>Charmander</td>\n",
       "      <td>Fire</td>\n",
       "      <td>NaN</td>\n",
       "      <td>309</td>\n",
       "      <td>39</td>\n",
       "      <td>52</td>\n",
       "      <td>43</td>\n",
       "      <td>60</td>\n",
       "      <td>50</td>\n",
       "      <td>65</td>\n",
       "      <td>1</td>\n",
       "      <td>False</td>\n",
       "    </tr>\n",
       "  </tbody>\n",
       "</table>\n",
       "</div>"
      ],
      "text/plain": [
       "   #                   Name Type 1  Type 2  Total  HP  Attack  Defense  \\\n",
       "0  1              Bulbasaur  Grass  Poison    318  45      49       49   \n",
       "1  2                Ivysaur  Grass  Poison    405  60      62       63   \n",
       "2  3               Venusaur  Grass  Poison    525  80      82       83   \n",
       "3  3  VenusaurMega Venusaur  Grass  Poison    625  80     100      123   \n",
       "4  4             Charmander   Fire     NaN    309  39      52       43   \n",
       "\n",
       "   Sp. Atk  Sp. Def  Speed  Generation  Legendary  \n",
       "0       65       65     45           1      False  \n",
       "1       80       80     60           1      False  \n",
       "2      100      100     80           1      False  \n",
       "3      122      120     80           1      False  \n",
       "4       60       50     65           1      False  "
      ]
     },
     "execution_count": 2,
     "metadata": {},
     "output_type": "execute_result"
    }
   ],
   "source": [
    "import pandas as pd \n",
    "pkmn = pd.read_csv(r'C:\\Users\\dell\\Desktop\\Ulatina\\AI\\ArtificialIntelligence-master\\ArtificialIntelligence-master\\Prerequisitos\\data\\Pokemon.csv')\n",
    "print(pkmn.shape)\n",
    "pkmn.head()"
   ]
  },
  {
   "cell_type": "code",
   "execution_count": 3,
   "metadata": {},
   "outputs": [
    {
     "data": {
      "image/png": "[encoded data removed]",
      "text/plain": [
       "<Figure size 1008x576 with 1 Axes>"
      ]
     },
     "metadata": {
      "needs_background": "light"
     },
     "output_type": "display_data"
    }
   ],
   "source": [
    "plt.figure(figsize=(14,8))\n",
    "sb.countplot(data=pkmn, x='Type 1')\n",
    "plt.show()"
   ]
  },
  {
   "cell_type": "markdown",
   "metadata": {},
   "source": [
    "De la gráfica superior podemos ver que de los primeros en el dataset existen mayor cantidad de pokemones de agua y normales.  Hasta aquí todo bien, pero para no distraernos en los colores preferimos cambiar la paleta de colores."
   ]
  },
  {
   "cell_type": "code",
   "execution_count": 4,
   "metadata": {},
   "outputs": [
    {
     "data": {
      "text/plain": [
       "[(0.12156862745098039, 0.4666666666666667, 0.7058823529411765),\n",
       " (1.0, 0.4980392156862745, 0.054901960784313725),\n",
       " (0.17254901960784313, 0.6274509803921569, 0.17254901960784313),\n",
       " (0.8392156862745098, 0.15294117647058825, 0.1568627450980392),\n",
       " (0.5803921568627451, 0.403921568627451, 0.7411764705882353),\n",
       " (0.5490196078431373, 0.33725490196078434, 0.29411764705882354),\n",
       " (0.8901960784313725, 0.4666666666666667, 0.7607843137254902),\n",
       " (0.4980392156862745, 0.4980392156862745, 0.4980392156862745),\n",
       " (0.7372549019607844, 0.7411764705882353, 0.13333333333333333),\n",
       " (0.09019607843137255, 0.7450980392156863, 0.8117647058823529)]"
      ]
     },
     "execution_count": 4,
     "metadata": {},
     "output_type": "execute_result"
    }
   ],
   "source": [
    "sb.color_palette()"
   ]
  },
  {
   "cell_type": "code",
   "execution_count": 5,
   "metadata": {},
   "outputs": [],
   "source": [
    "color = sb.color_palette()[2]"
   ]
  },
  {
   "cell_type": "code",
   "execution_count": 6,
   "metadata": {
    "scrolled": false
   },
   "outputs": [
    {
     "data": {
      "image/png": "[encoded data removed]",
      "text/plain": [
       "<Figure size 2160x720 with 1 Axes>"
      ]
     },
     "metadata": {
      "needs_background": "light"
     },
     "output_type": "display_data"
    }
   ],
   "source": [
    "plt.figure(figsize=(30,10))\n",
    "sb.countplot(data=pkmn, x='Type 1', color=color)\n",
    "plt.show()"
   ]
  },
  {
   "cell_type": "markdown",
   "metadata": {},
   "source": [
    "Ahora, quizá algo que nos interese es ordenar la gráfica en como se ven en los datos.  Para esto necesitamos los índices.  Podemos tener los índices realizando el desglose de la serie por sus índices."
   ]
  },
  {
   "cell_type": "code",
   "execution_count": 7,
   "metadata": {},
   "outputs": [
    {
     "data": {
      "text/plain": [
       "Index(['Water', 'Normal', 'Grass', 'Bug', 'Psychic', 'Fire', 'Electric',\n",
       "       'Rock', 'Ghost', 'Dragon', 'Ground', 'Dark', 'Poison', 'Steel',\n",
       "       'Fighting', 'Ice', 'Fairy', 'Flying'],\n",
       "      dtype='object')"
      ]
     },
     "execution_count": 7,
     "metadata": {},
     "output_type": "execute_result"
    }
   ],
   "source": [
    "order = pkmn['Type 1'].value_counts().index\n",
    "order"
   ]
  },
  {
   "cell_type": "code",
   "execution_count": 8,
   "metadata": {},
   "outputs": [
    {
     "data": {
      "image/png": "[encoded data removed]",
      "text/plain": [
       "<Figure size 2160x720 with 1 Axes>"
      ]
     },
     "metadata": {
      "needs_background": "light"
     },
     "output_type": "display_data"
    }
   ],
   "source": [
    "plt.figure(figsize=(30,10))\n",
    "sb.countplot(data=pkmn, x='Type 1', color=color, order=order)\n",
    "plt.show()"
   ]
  },
  {
   "cell_type": "markdown",
   "metadata": {},
   "source": [
    "Vemos que la gráfica se nos dificulta ver, por ahora son pocos tipos de pokemon, pero a medida que avanza la serie existen muchos tipos... veamos como podemos rotar la los datos para aprovechar el espacio vertical."
   ]
  },
  {
   "cell_type": "code",
   "execution_count": 9,
   "metadata": {},
   "outputs": [
    {
     "data": {
      "image/png": "[encoded data removed]",
      "text/plain": [
       "<Figure size 864x720 with 1 Axes>"
      ]
     },
     "metadata": {
      "needs_background": "light"
     },
     "output_type": "display_data"
    }
   ],
   "source": [
    "plt.figure(figsize=(12,10))\n",
    "cplot = sb.countplot(data=pkmn, x='Type 1', color=color, order=order)\n",
    "plt.xticks(rotation=90)\n",
    "plt.show()"
   ]
  },
  {
   "cell_type": "markdown",
   "metadata": {},
   "source": [
    "Ahora vamos a rotar la gráfica 90°, nos parece que es mejor verla de esta forma."
   ]
  },
  {
   "cell_type": "code",
   "execution_count": 10,
   "metadata": {},
   "outputs": [
    {
     "data": {
      "image/png": "[encoded data removed]",
      "text/plain": [
       "<Figure size 864x720 with 1 Axes>"
      ]
     },
     "metadata": {
      "needs_background": "light"
     },
     "output_type": "display_data"
    }
   ],
   "source": [
    "plt.figure(figsize=(12,10))\n",
    "sb.countplot(data=pkmn, y='Type 1', color=color, order=order)\n",
    "plt.show()"
   ]
  },
  {
   "cell_type": "markdown",
   "metadata": {},
   "source": [
    "## Frecuencia Absoluta y Relativa\n",
    "\n",
    "Los datos anteriores fueron de frecuencia absoluta, o el conjunto de datos a lo largo del eje.  Sin embargo, para algunos casos nos interesa que tan proporcional es la información, es decir, prácticamente cambiamos a porcentaje de total de los datos."
   ]
  },
  {
   "cell_type": "code",
   "execution_count": 63,
   "metadata": {},
   "outputs": [],
   "source": [
    "pkmn_types = pkmn.melt(id_vars=['#', 'Name'], \n",
    "                         value_vars=['Type 1', 'Type 2'], \n",
    "                         var_name='type_level', \n",
    "                         value_name='type').dropna()"
   ]
  },
  {
   "cell_type": "code",
   "execution_count": 64,
   "metadata": {},
   "outputs": [
    {
     "data": {
      "text/html": [
       "<div>\n",
       "<style scoped>\n",
       "    .dataframe tbody tr th:only-of-type {\n",
       "        vertical-align: middle;\n",
       "    }\n",
       "\n",
       "    .dataframe tbody tr th {\n",
       "        vertical-align: top;\n",
       "    }\n",
       "\n",
       "    .dataframe thead th {\n",
       "        text-align: right;\n",
       "    }\n",
       "</style>\n",
       "<table border=\"1\" class=\"dataframe\">\n",
       "  <thead>\n",
       "    <tr style=\"text-align: right;\">\n",
       "      <th></th>\n",
       "      <th>#</th>\n",
       "      <th>Name</th>\n",
       "      <th>type_level</th>\n",
       "      <th>type</th>\n",
       "    </tr>\n",
       "  </thead>\n",
       "  <tbody>\n",
       "    <tr>\n",
       "      <th>100</th>\n",
       "      <td>93</td>\n",
       "      <td>Haunter</td>\n",
       "      <td>Type 1</td>\n",
       "      <td>Ghost</td>\n",
       "    </tr>\n",
       "    <tr>\n",
       "      <th>101</th>\n",
       "      <td>94</td>\n",
       "      <td>Gengar</td>\n",
       "      <td>Type 1</td>\n",
       "      <td>Ghost</td>\n",
       "    </tr>\n",
       "    <tr>\n",
       "      <th>102</th>\n",
       "      <td>94</td>\n",
       "      <td>GengarMega Gengar</td>\n",
       "      <td>Type 1</td>\n",
       "      <td>Ghost</td>\n",
       "    </tr>\n",
       "    <tr>\n",
       "      <th>103</th>\n",
       "      <td>95</td>\n",
       "      <td>Onix</td>\n",
       "      <td>Type 1</td>\n",
       "      <td>Rock</td>\n",
       "    </tr>\n",
       "    <tr>\n",
       "      <th>104</th>\n",
       "      <td>96</td>\n",
       "      <td>Drowzee</td>\n",
       "      <td>Type 1</td>\n",
       "      <td>Psychic</td>\n",
       "    </tr>\n",
       "    <tr>\n",
       "      <th>105</th>\n",
       "      <td>97</td>\n",
       "      <td>Hypno</td>\n",
       "      <td>Type 1</td>\n",
       "      <td>Psychic</td>\n",
       "    </tr>\n",
       "    <tr>\n",
       "      <th>106</th>\n",
       "      <td>98</td>\n",
       "      <td>Krabby</td>\n",
       "      <td>Type 1</td>\n",
       "      <td>Water</td>\n",
       "    </tr>\n",
       "    <tr>\n",
       "      <th>107</th>\n",
       "      <td>99</td>\n",
       "      <td>Kingler</td>\n",
       "      <td>Type 1</td>\n",
       "      <td>Water</td>\n",
       "    </tr>\n",
       "    <tr>\n",
       "      <th>108</th>\n",
       "      <td>100</td>\n",
       "      <td>Voltorb</td>\n",
       "      <td>Type 1</td>\n",
       "      <td>Electric</td>\n",
       "    </tr>\n",
       "    <tr>\n",
       "      <th>109</th>\n",
       "      <td>101</td>\n",
       "      <td>Electrode</td>\n",
       "      <td>Type 1</td>\n",
       "      <td>Electric</td>\n",
       "    </tr>\n",
       "  </tbody>\n",
       "</table>\n",
       "</div>"
      ],
      "text/plain": [
       "       #               Name type_level      type\n",
       "100   93            Haunter     Type 1     Ghost\n",
       "101   94             Gengar     Type 1     Ghost\n",
       "102   94  GengarMega Gengar     Type 1     Ghost\n",
       "103   95               Onix     Type 1      Rock\n",
       "104   96            Drowzee     Type 1   Psychic\n",
       "105   97              Hypno     Type 1   Psychic\n",
       "106   98             Krabby     Type 1     Water\n",
       "107   99            Kingler     Type 1     Water\n",
       "108  100            Voltorb     Type 1  Electric\n",
       "109  101          Electrode     Type 1  Electric"
      ]
     },
     "execution_count": 64,
     "metadata": {},
     "output_type": "execute_result"
    }
   ],
   "source": [
    "pkmn_types[100:110]"
   ]
  },
  {
   "cell_type": "code",
   "execution_count": 65,
   "metadata": {},
   "outputs": [],
   "source": [
    "type_cnt = pkmn_types['type'].value_counts()\n",
    "order = type_cnt.index"
   ]
  },
  {
   "cell_type": "code",
   "execution_count": 66,
   "metadata": {},
   "outputs": [
    {
     "data": {
      "text/plain": [
       "Water       126\n",
       "Normal      102\n",
       "Flying      101\n",
       "Grass        95\n",
       "Psychic      90\n",
       "Bug          72\n",
       "Ground       67\n",
       "Fire         64\n",
       "Poison       62\n",
       "Rock         58\n",
       "Fighting     53\n",
       "Dark         51\n",
       "Dragon       50\n",
       "Electric     50\n",
       "Steel        49\n",
       "Ghost        46\n",
       "Fairy        40\n",
       "Ice          38\n",
       "Name: type, dtype: int64"
      ]
     },
     "execution_count": 66,
     "metadata": {},
     "output_type": "execute_result"
    }
   ],
   "source": [
    "type_cnt"
   ]
  },
  {
   "cell_type": "code",
   "execution_count": 67,
   "metadata": {},
   "outputs": [
    {
     "data": {
      "text/plain": [
       "<matplotlib.axes._subplots.AxesSubplot at 0x255b775d250>"
      ]
     },
     "execution_count": 67,
     "metadata": {},
     "output_type": "execute_result"
    },
    {
     "data": {
      "image/png": "[encoded data removed]",
      "text/plain": [
       "<Figure size 864x432 with 1 Axes>"
      ]
     },
     "metadata": {
      "needs_background": "light"
     },
     "output_type": "display_data"
    }
   ],
   "source": [
    "plt.figure(figsize=(12,6))\n",
    "color = sb.color_palette()[2]\n",
    "sb.countplot(data=pkmn_types, y='type', color=color, order=order)"
   ]
  },
  {
   "cell_type": "markdown",
   "metadata": {},
   "source": [
    "Veamos como podemos unificar valores relativos"
   ]
  },
  {
   "cell_type": "code",
   "execution_count": 68,
   "metadata": {},
   "outputs": [
    {
     "data": {
      "text/plain": [
       "(0.10378912685337727, 1214)"
      ]
     },
     "execution_count": 68,
     "metadata": {},
     "output_type": "execute_result"
    }
   ],
   "source": [
    "# calculando el valor de la barra, proporcional al máximo\n",
    "npkmn = type_cnt.values.sum() # x max\n",
    "max_type_cnt = type_cnt[0] # max types\n",
    "maxprop = max_type_cnt/npkmn\n",
    "maxprop, npkmn"
   ]
  },
  {
   "cell_type": "code",
   "execution_count": 69,
   "metadata": {},
   "outputs": [
    {
     "data": {
      "text/plain": [
       "array([0.  , 0.01, 0.02, 0.03, 0.04, 0.05, 0.06, 0.07, 0.08, 0.09, 0.1 ])"
      ]
     },
     "execution_count": 69,
     "metadata": {},
     "output_type": "execute_result"
    }
   ],
   "source": [
    "# generamos pasos de 0.01 de 0 al máximo de datos\n",
    "tick_props = np.arange(0, maxprop, 0.01)\n",
    "tick_props"
   ]
  },
  {
   "cell_type": "code",
   "execution_count": 70,
   "metadata": {},
   "outputs": [],
   "source": [
    "# generamos una variable con los nombres para las etiquetas\n",
    "tick_names = ['{:0.2f}'.format(v) for v in tick_props]"
   ]
  },
  {
   "cell_type": "code",
   "execution_count": 71,
   "metadata": {},
   "outputs": [
    {
     "data": {
      "image/png": "[encoded data removed]",
      "text/plain": [
       "<Figure size 864x432 with 1 Axes>"
      ]
     },
     "metadata": {
      "needs_background": "light"
     },
     "output_type": "display_data"
    }
   ],
   "source": [
    "plt.figure(figsize=(12,6)) # cambia tamaño de grafica\n",
    "sb.countplot(data=pkmn_types, y='type', color=color, order=order) # graficar\n",
    "plt.xticks(tick_props*npkmn, tick_names) # cantidad de ticks totales y sus nombres\n",
    "plt.xlabel('proportion'); # creamos el eje x proporcional"
   ]
  },
  {
   "cell_type": "code",
   "execution_count": 72,
   "metadata": {},
   "outputs": [
    {
     "data": {
      "text/plain": [
       "(Water       126\n",
       " Normal      102\n",
       " Flying      101\n",
       " Grass        95\n",
       " Psychic      90\n",
       " Bug          72\n",
       " Ground       67\n",
       " Fire         64\n",
       " Poison       62\n",
       " Rock         58\n",
       " Fighting     53\n",
       " Dark         51\n",
       " Dragon       50\n",
       " Electric     50\n",
       " Steel        49\n",
       " Ghost        46\n",
       " Fairy        40\n",
       " Ice          38\n",
       " Name: type, dtype: int64,\n",
       " 1214)"
      ]
     },
     "execution_count": 72,
     "metadata": {},
     "output_type": "execute_result"
    }
   ],
   "source": [
    "type_cnt, type_cnt.values.sum()"
   ]
  },
  {
   "cell_type": "code",
   "execution_count": 73,
   "metadata": {},
   "outputs": [
    {
     "data": {
      "image/png": "[encoded data removed]",
      "text/plain": [
       "<Figure size 864x432 with 1 Axes>"
      ]
     },
     "metadata": {
      "needs_background": "light"
     },
     "output_type": "display_data"
    }
   ],
   "source": [
    "plt.figure(figsize=(12,6)) # cambia tamaño de grafica\n",
    "sb.countplot(data=pkmn_types, y='type', color=color, order=order) # graficar\n",
    "for i in range(len(type_cnt)): # nos movemos por toda la grafica por cada tipo\n",
    "    cnt = type_cnt[i]\n",
    "    pcnt = '{:0.1f}%'.format(100*cnt/npkmn)\n",
    "    plt.text(cnt+1, i, pcnt, va='center')"
   ]
  },
  {
   "cell_type": "markdown",
   "metadata": {},
   "source": [
    "#### Bonus... grafico proporcional en *y* porcentajes dentro de las barras"
   ]
  },
  {
   "cell_type": "code",
   "execution_count": 22,
   "metadata": {},
   "outputs": [
    {
     "data": {
      "image/png": "[encoded data removed]",
      "text/plain": [
       "<Figure size 864x432 with 1 Axes>"
      ]
     },
     "metadata": {
      "needs_background": "light"
     },
     "output_type": "display_data"
    }
   ],
   "source": [
    "# proporcion para el grupo\n",
    "npts = pkmn.shape[0]\n",
    "maxcnt = pkmn['Type 1'].value_counts().max()\n",
    "maxprop = maxcnt/npts\n",
    "\n",
    "# genera los ticks y nombres\n",
    "tickprop = np.arange(0, maxprop, 0.05)\n",
    "tickname = ['{:0.2f}'.format(v) for v in tickprop]\n",
    "\n",
    "# create the plot\n",
    "color = sb.color_palette()[3]\n",
    "plt.figure(figsize=(12,6)) # cambia tamaño de grafica\n",
    "sb.countplot(data=pkmn, x='Type 1', color=color)\n",
    "plt.yticks(tickprop*npts, tickname)\n",
    "plt.ylabel('proportion');"
   ]
  },
  {
   "cell_type": "code",
   "execution_count": 31,
   "metadata": {},
   "outputs": [
    {
     "data": {
      "image/png": "[encoded data removed]",
      "text/plain": [
       "<Figure size 864x288 with 1 Axes>"
      ]
     },
     "metadata": {
      "needs_background": "light"
     },
     "output_type": "display_data"
    }
   ],
   "source": [
    "# crea grafico\n",
    "plt.figure(figsize=(12,4)) # cambia tamaño de grafica\n",
    "color = sb.color_palette()[1]\n",
    "sb.countplot(data=pkmn, x='Type 1', color=color)\n",
    "plt.xticks(rotation=90)\n",
    "\n",
    "# añade anotaciones\n",
    "npts = pkmn.shape[0]\n",
    "catcnt = pkmn['Type 1'].value_counts()\n",
    "locs, lbls = plt.xticks() # get the current tick locations and labels\n",
    "\n",
    "# Entre cada par salta cada etiqueta\n",
    "for loc, lbl in zip(locs, lbls):\n",
    "    # toma la propiedad de texto\n",
    "    cnt = catcnt[lbl.get_text()]\n",
    "    pcnt = '{:0.1f}%'.format(100*cnt/npts)\n",
    "    # imprime las anotaciones debajo de la barra\n",
    "    plt.text(loc, cnt-5, pcnt, ha = 'center', color='b')"
   ]
  },
  {
   "cell_type": "markdown",
   "metadata": {},
   "source": [
    "#### Contando datos perdidos\n",
    "\n",
    "Una manera interesante de aplicar barras es para la visualización de datos faltante.  Podemos utilizar las funciones de pandas para crear tablas de número de valores perdidos en las columnas.\n",
    "\n",
    "Podemos utilizar tambien un gráfico basado en barras para ver esto de una manera cuantitativa utilizando barplot()."
   ]
  },
  {
   "cell_type": "code",
   "execution_count": 24,
   "metadata": {},
   "outputs": [
    {
     "data": {
      "text/plain": [
       "Type 1      0\n",
       "Type 2    386\n",
       "dtype: int64"
      ]
     },
     "execution_count": 24,
     "metadata": {},
     "output_type": "execute_result"
    }
   ],
   "source": [
    "lost = pkmn[['Type 1', 'Type 2']].isna().sum()\n",
    "lost"
   ]
  },
  {
   "cell_type": "code",
   "execution_count": 25,
   "metadata": {
    "scrolled": false
   },
   "outputs": [
    {
     "data": {
      "text/plain": [
       "<matplotlib.axes._subplots.AxesSubplot at 0x255b7699940>"
      ]
     },
     "execution_count": 25,
     "metadata": {},
     "output_type": "execute_result"
    },
    {
     "data": {
      "image/png": "[encoded data removed]",
      "text/plain": [
       "<Figure size 432x288 with 1 Axes>"
      ]
     },
     "metadata": {
      "needs_background": "light"
     },
     "output_type": "display_data"
    }
   ],
   "source": [
    "color = sb.color_palette()[3]\n",
    "sb.barplot(lost.index.values, lost, color=color)"
   ]
  },
  {
   "cell_type": "markdown",
   "metadata": {},
   "source": [
    "Solamente aclarando, si su data no esta contabilizada (numérica) no puede utilizar un barplot pero puede utilizar un countplot para obtener le mismo resultado."
   ]
  },
  {
   "cell_type": "markdown",
   "metadata": {},
   "source": [
    "### Graficos Pie y Donas\n",
    "\n",
    "En el pie cada categoría es en base a un valor en el círculo. \n",
    "\n",
    "Existe otro tipo de dato identico, el grafico de dona, simplemente está huego en su centro. Pie y donut charts son muy utilizados sin embargo ud en muchas de las ocasiones preferirá un gráfico basado en barplot, esto no significa que estos tipos de gráficos no sean útiles.\n",
    "\n",
    "Estos tipos de gráficos son limitados en función. Si los va a utilizar haga lo siguiente\n",
    "- La data esta dividida en partes\n",
    "- Los pedazos a graficar son pocos\n",
    "- Trate de graficar sistematicamente debido a que los datos se grafican de izquierda a derecha desde las 12 en punto.\n",
    "\n",
    "Veamos como hacer un gráfico sencillo tipo pie"
   ]
  },
  {
   "cell_type": "code",
   "execution_count": 26,
   "metadata": {},
   "outputs": [
    {
     "ename": "FileNotFoundError",
     "evalue": "[Errno 2] File data/pokemon.csv does not exist: 'data/pokemon.csv'",
     "output_type": "error",
     "traceback": [
      "\u001b[1;31m---------------------------------------------------------------------------\u001b[0m",
      "\u001b[1;31mFileNotFoundError\u001b[0m                         Traceback (most recent call last)",
      "\u001b[1;32m<ipython-input-26-0378e9745464>\u001b[0m in \u001b[0;36m<module>\u001b[1;34m\u001b[0m\n\u001b[1;32m----> 1\u001b[1;33m \u001b[0mpkmn\u001b[0m \u001b[1;33m=\u001b[0m \u001b[0mpd\u001b[0m\u001b[1;33m.\u001b[0m\u001b[0mread_csv\u001b[0m\u001b[1;33m(\u001b[0m\u001b[1;34m'data/pokemon.csv'\u001b[0m\u001b[1;33m)\u001b[0m\u001b[1;33m\u001b[0m\u001b[1;33m\u001b[0m\u001b[0m\n\u001b[0m\u001b[0;32m      2\u001b[0m \u001b[0mpkmn\u001b[0m\u001b[1;33m.\u001b[0m\u001b[0mhead\u001b[0m\u001b[1;33m(\u001b[0m\u001b[1;33m)\u001b[0m\u001b[1;33m\u001b[0m\u001b[1;33m\u001b[0m\u001b[0m\n",
      "\u001b[1;32m~\\anaconda3\\lib\\site-packages\\pandas\\io\\parsers.py\u001b[0m in \u001b[0;36mparser_f\u001b[1;34m(filepath_or_buffer, sep, delimiter, header, names, index_col, usecols, squeeze, prefix, mangle_dupe_cols, dtype, engine, converters, true_values, false_values, skipinitialspace, skiprows, skipfooter, nrows, na_values, keep_default_na, na_filter, verbose, skip_blank_lines, parse_dates, infer_datetime_format, keep_date_col, date_parser, dayfirst, cache_dates, iterator, chunksize, compression, thousands, decimal, lineterminator, quotechar, quoting, doublequote, escapechar, comment, encoding, dialect, error_bad_lines, warn_bad_lines, delim_whitespace, low_memory, memory_map, float_precision)\u001b[0m\n\u001b[0;32m    674\u001b[0m         )\n\u001b[0;32m    675\u001b[0m \u001b[1;33m\u001b[0m\u001b[0m\n\u001b[1;32m--> 676\u001b[1;33m         \u001b[1;32mreturn\u001b[0m \u001b[0m_read\u001b[0m\u001b[1;33m(\u001b[0m\u001b[0mfilepath_or_buffer\u001b[0m\u001b[1;33m,\u001b[0m \u001b[0mkwds\u001b[0m\u001b[1;33m)\u001b[0m\u001b[1;33m\u001b[0m\u001b[1;33m\u001b[0m\u001b[0m\n\u001b[0m\u001b[0;32m    677\u001b[0m \u001b[1;33m\u001b[0m\u001b[0m\n\u001b[0;32m    678\u001b[0m     \u001b[0mparser_f\u001b[0m\u001b[1;33m.\u001b[0m\u001b[0m__name__\u001b[0m \u001b[1;33m=\u001b[0m \u001b[0mname\u001b[0m\u001b[1;33m\u001b[0m\u001b[1;33m\u001b[0m\u001b[0m\n",
      "\u001b[1;32m~\\anaconda3\\lib\\site-packages\\pandas\\io\\parsers.py\u001b[0m in \u001b[0;36m_read\u001b[1;34m(filepath_or_buffer, kwds)\u001b[0m\n\u001b[0;32m    446\u001b[0m \u001b[1;33m\u001b[0m\u001b[0m\n\u001b[0;32m    447\u001b[0m     \u001b[1;31m# Create the parser.\u001b[0m\u001b[1;33m\u001b[0m\u001b[1;33m\u001b[0m\u001b[1;33m\u001b[0m\u001b[0m\n\u001b[1;32m--> 448\u001b[1;33m     \u001b[0mparser\u001b[0m \u001b[1;33m=\u001b[0m \u001b[0mTextFileReader\u001b[0m\u001b[1;33m(\u001b[0m\u001b[0mfp_or_buf\u001b[0m\u001b[1;33m,\u001b[0m \u001b[1;33m**\u001b[0m\u001b[0mkwds\u001b[0m\u001b[1;33m)\u001b[0m\u001b[1;33m\u001b[0m\u001b[1;33m\u001b[0m\u001b[0m\n\u001b[0m\u001b[0;32m    449\u001b[0m \u001b[1;33m\u001b[0m\u001b[0m\n\u001b[0;32m    450\u001b[0m     \u001b[1;32mif\u001b[0m \u001b[0mchunksize\u001b[0m \u001b[1;32mor\u001b[0m \u001b[0miterator\u001b[0m\u001b[1;33m:\u001b[0m\u001b[1;33m\u001b[0m\u001b[1;33m\u001b[0m\u001b[0m\n",
      "\u001b[1;32m~\\anaconda3\\lib\\site-packages\\pandas\\io\\parsers.py\u001b[0m in \u001b[0;36m__init__\u001b[1;34m(self, f, engine, **kwds)\u001b[0m\n\u001b[0;32m    878\u001b[0m             \u001b[0mself\u001b[0m\u001b[1;33m.\u001b[0m\u001b[0moptions\u001b[0m\u001b[1;33m[\u001b[0m\u001b[1;34m\"has_index_names\"\u001b[0m\u001b[1;33m]\u001b[0m \u001b[1;33m=\u001b[0m \u001b[0mkwds\u001b[0m\u001b[1;33m[\u001b[0m\u001b[1;34m\"has_index_names\"\u001b[0m\u001b[1;33m]\u001b[0m\u001b[1;33m\u001b[0m\u001b[1;33m\u001b[0m\u001b[0m\n\u001b[0;32m    879\u001b[0m \u001b[1;33m\u001b[0m\u001b[0m\n\u001b[1;32m--> 880\u001b[1;33m         \u001b[0mself\u001b[0m\u001b[1;33m.\u001b[0m\u001b[0m_make_engine\u001b[0m\u001b[1;33m(\u001b[0m\u001b[0mself\u001b[0m\u001b[1;33m.\u001b[0m\u001b[0mengine\u001b[0m\u001b[1;33m)\u001b[0m\u001b[1;33m\u001b[0m\u001b[1;33m\u001b[0m\u001b[0m\n\u001b[0m\u001b[0;32m    881\u001b[0m \u001b[1;33m\u001b[0m\u001b[0m\n\u001b[0;32m    882\u001b[0m     \u001b[1;32mdef\u001b[0m \u001b[0mclose\u001b[0m\u001b[1;33m(\u001b[0m\u001b[0mself\u001b[0m\u001b[1;33m)\u001b[0m\u001b[1;33m:\u001b[0m\u001b[1;33m\u001b[0m\u001b[1;33m\u001b[0m\u001b[0m\n",
      "\u001b[1;32m~\\anaconda3\\lib\\site-packages\\pandas\\io\\parsers.py\u001b[0m in \u001b[0;36m_make_engine\u001b[1;34m(self, engine)\u001b[0m\n\u001b[0;32m   1112\u001b[0m     \u001b[1;32mdef\u001b[0m \u001b[0m_make_engine\u001b[0m\u001b[1;33m(\u001b[0m\u001b[0mself\u001b[0m\u001b[1;33m,\u001b[0m \u001b[0mengine\u001b[0m\u001b[1;33m=\u001b[0m\u001b[1;34m\"c\"\u001b[0m\u001b[1;33m)\u001b[0m\u001b[1;33m:\u001b[0m\u001b[1;33m\u001b[0m\u001b[1;33m\u001b[0m\u001b[0m\n\u001b[0;32m   1113\u001b[0m         \u001b[1;32mif\u001b[0m \u001b[0mengine\u001b[0m \u001b[1;33m==\u001b[0m \u001b[1;34m\"c\"\u001b[0m\u001b[1;33m:\u001b[0m\u001b[1;33m\u001b[0m\u001b[1;33m\u001b[0m\u001b[0m\n\u001b[1;32m-> 1114\u001b[1;33m             \u001b[0mself\u001b[0m\u001b[1;33m.\u001b[0m\u001b[0m_engine\u001b[0m \u001b[1;33m=\u001b[0m \u001b[0mCParserWrapper\u001b[0m\u001b[1;33m(\u001b[0m\u001b[0mself\u001b[0m\u001b[1;33m.\u001b[0m\u001b[0mf\u001b[0m\u001b[1;33m,\u001b[0m \u001b[1;33m**\u001b[0m\u001b[0mself\u001b[0m\u001b[1;33m.\u001b[0m\u001b[0moptions\u001b[0m\u001b[1;33m)\u001b[0m\u001b[1;33m\u001b[0m\u001b[1;33m\u001b[0m\u001b[0m\n\u001b[0m\u001b[0;32m   1115\u001b[0m         \u001b[1;32melse\u001b[0m\u001b[1;33m:\u001b[0m\u001b[1;33m\u001b[0m\u001b[1;33m\u001b[0m\u001b[0m\n\u001b[0;32m   1116\u001b[0m             \u001b[1;32mif\u001b[0m \u001b[0mengine\u001b[0m \u001b[1;33m==\u001b[0m \u001b[1;34m\"python\"\u001b[0m\u001b[1;33m:\u001b[0m\u001b[1;33m\u001b[0m\u001b[1;33m\u001b[0m\u001b[0m\n",
      "\u001b[1;32m~\\anaconda3\\lib\\site-packages\\pandas\\io\\parsers.py\u001b[0m in \u001b[0;36m__init__\u001b[1;34m(self, src, **kwds)\u001b[0m\n\u001b[0;32m   1889\u001b[0m         \u001b[0mkwds\u001b[0m\u001b[1;33m[\u001b[0m\u001b[1;34m\"usecols\"\u001b[0m\u001b[1;33m]\u001b[0m \u001b[1;33m=\u001b[0m \u001b[0mself\u001b[0m\u001b[1;33m.\u001b[0m\u001b[0musecols\u001b[0m\u001b[1;33m\u001b[0m\u001b[1;33m\u001b[0m\u001b[0m\n\u001b[0;32m   1890\u001b[0m \u001b[1;33m\u001b[0m\u001b[0m\n\u001b[1;32m-> 1891\u001b[1;33m         \u001b[0mself\u001b[0m\u001b[1;33m.\u001b[0m\u001b[0m_reader\u001b[0m \u001b[1;33m=\u001b[0m \u001b[0mparsers\u001b[0m\u001b[1;33m.\u001b[0m\u001b[0mTextReader\u001b[0m\u001b[1;33m(\u001b[0m\u001b[0msrc\u001b[0m\u001b[1;33m,\u001b[0m \u001b[1;33m**\u001b[0m\u001b[0mkwds\u001b[0m\u001b[1;33m)\u001b[0m\u001b[1;33m\u001b[0m\u001b[1;33m\u001b[0m\u001b[0m\n\u001b[0m\u001b[0;32m   1892\u001b[0m         \u001b[0mself\u001b[0m\u001b[1;33m.\u001b[0m\u001b[0munnamed_cols\u001b[0m \u001b[1;33m=\u001b[0m \u001b[0mself\u001b[0m\u001b[1;33m.\u001b[0m\u001b[0m_reader\u001b[0m\u001b[1;33m.\u001b[0m\u001b[0munnamed_cols\u001b[0m\u001b[1;33m\u001b[0m\u001b[1;33m\u001b[0m\u001b[0m\n\u001b[0;32m   1893\u001b[0m \u001b[1;33m\u001b[0m\u001b[0m\n",
      "\u001b[1;32mpandas\\_libs\\parsers.pyx\u001b[0m in \u001b[0;36mpandas._libs.parsers.TextReader.__cinit__\u001b[1;34m()\u001b[0m\n",
      "\u001b[1;32mpandas\\_libs\\parsers.pyx\u001b[0m in \u001b[0;36mpandas._libs.parsers.TextReader._setup_parser_source\u001b[1;34m()\u001b[0m\n",
      "\u001b[1;31mFileNotFoundError\u001b[0m: [Errno 2] File data/pokemon.csv does not exist: 'data/pokemon.csv'"
     ]
    }
   ],
   "source": [
    "pkmn = pd.read_csv('data/pokemon.csv')\n",
    "pkmn.head()"
   ]
  },
  {
   "cell_type": "code",
   "execution_count": null,
   "metadata": {},
   "outputs": [],
   "source": [
    "pkmngen = pkmn['Generation'].value_counts()\n",
    "plt.pie(pkmngen, labels=pkmngen.index, startangle=90, counterclock=False)\n",
    "plt.axis('square');"
   ]
  },
  {
   "cell_type": "markdown",
   "metadata": {},
   "source": [
    "Una gráfica amiga del pie es la de dona, es como la gráfica de pie pero con vacía en el medio.  Para crear la gráfica de dona simplemente agregamos un parámetro dentro de ella especificando el ancho."
   ]
  },
  {
   "cell_type": "code",
   "execution_count": null,
   "metadata": {},
   "outputs": [],
   "source": [
    "plt.pie(pkmngen, labels=pkmngen.index, startangle=90, counterclock=False, wedgeprops={'width':0.5})\n",
    "plt.axis('square');"
   ]
  },
  {
   "cell_type": "markdown",
   "metadata": {},
   "source": [
    "#### Graficos\n",
    "\n",
    "Si tienes datos cuantitativos es mejor graficar por medio de histogramas donde el eje x tiene las características y el eje y las ocurrencias, que en inglés les decimos bin, nosotros las llamaremos recipientes.\n",
    "\n",
    "<img src=\"imgs/histogramplot.PNG\" width=\"40%\" />\n",
    "\n",
    "Cuando se tiene datos que van a graficarse a histogramas es bueno probar diferentes configuraciones que nos llevarán a una mejor visualización de los datos."
   ]
  },
  {
   "cell_type": "code",
   "execution_count": null,
   "metadata": {},
   "outputs": [],
   "source": [
    "plt.hist(data=pkmn, x='Defense');"
   ]
  },
  {
   "cell_type": "markdown",
   "metadata": {},
   "source": [
    "Por defecto matplotlib hace 10 recipientes, para tener una mejor distribución de los datos aprovechemos y veamos entonces como podemos expandir a más recipientes."
   ]
  },
  {
   "cell_type": "code",
   "execution_count": null,
   "metadata": {},
   "outputs": [],
   "source": [
    "plt.hist(data=pkmn, x='Defense', bins=30)"
   ]
  },
  {
   "cell_type": "markdown",
   "metadata": {},
   "source": [
    "Si observamos arriba vemos que los recipientes contienen datos enteros, pero que existen datos con número decimales que pueden quedar fuera de estos recipientes, vamos a aprovechar las funciones de matplotlib para corregir este problema."
   ]
  },
  {
   "cell_type": "code",
   "execution_count": null,
   "metadata": {},
   "outputs": [],
   "source": [
    "pkmn_max_def = pkmn['Defense'].max()\n",
    "bins = np.arange(0, pkmn_max_def+5, 5)\n",
    "plt.hist(data=pkmn, x='Defense', bins=bins);"
   ]
  },
  {
   "cell_type": "markdown",
   "metadata": {},
   "source": [
    "Probemos ahora con espaciamientos entre recipientes de 1 a ver que sucede..."
   ]
  },
  {
   "cell_type": "code",
   "execution_count": null,
   "metadata": {},
   "outputs": [],
   "source": [
    "pkmn_max_def = pkmn['Defense'].max()\n",
    "bins = np.arange(0, pkmn_max_def+1, 1)\n",
    "plt.hist(data=pkmn, x='Defense', bins=bins);"
   ]
  },
  {
   "cell_type": "markdown",
   "metadata": {},
   "source": [
    "Mmmm, demasiado fino y no nos deja ver el comportamiento como debe ser.  Nos sirve mejor ver divisiones más anchas de recipientes, caracterizan mejor la información para este caso.\n",
    "\n",
    "Veamos la misma función pero para seaborn."
   ]
  },
  {
   "cell_type": "code",
   "execution_count": null,
   "metadata": {},
   "outputs": [],
   "source": [
    "sb.distplot(pkmn['Defense']);"
   ]
  },
  {
   "cell_type": "markdown",
   "metadata": {},
   "source": [
    "Notamos que para seaborn la distribución de los datos es más uniforme y que también tenemos una línea dibujada.  Debajo del area de la curva seaborn ha calculado para que la distribución de los datos sea alrededor de 1.\n",
    "\n",
    "Podemos también graficar sin necesidad de ver la línea de tendencia."
   ]
  },
  {
   "cell_type": "code",
   "execution_count": null,
   "metadata": {},
   "outputs": [],
   "source": [
    "sb.distplot(pkmn['Defense'], kde=False);"
   ]
  },
  {
   "cell_type": "markdown",
   "metadata": {},
   "source": [
    "#### Figuras, ejes y subgráficas\n",
    "\n",
    "Por le momento hemos visto funciones gráficas básicas de matplotlib y seaborn.  Ahora nos pondremos más creativos utilizando la función subplot() que nos permite agregar una gráfica al lado de otra (superior o inferior o ambas). \n",
    "\n",
    "La base de todo se da en la visualización por medio del objeto Figure().  Contenida en cada figura tenemos los ejes, cada eje contiene un número de leementos que representa cada gráfico, anteriormente no los especificamos pero las funciones los creaban por nosotros.\n",
    "\n",
    "<img src=\"imgs/figureaxesplot.PNG\" width=\"30%\" />"
   ]
  },
  {
   "cell_type": "markdown",
   "metadata": {},
   "source": [
    "La jerarquía para creación de gráficos no va a variar y sigue los siguientes pasos:\n",
    "- crear una figura\n",
    "- añadir los ejes\n",
    "- añadir gráfico"
   ]
  },
  {
   "cell_type": "code",
   "execution_count": null,
   "metadata": {},
   "outputs": [],
   "source": [
    "fig = plt.figure()\n",
    "ax= fig.add_axes([0.5, 0.5, 0.8, 0.8]) # especificamos las dimensiones de los ejes\n",
    "ax.hist(data=pkmn, x='HP'); # grafica de histograma añadida a la figura"
   ]
  },
  {
   "cell_type": "markdown",
   "metadata": {},
   "source": [
    "Para utilzar ejes en un countplot normalmente podemos asignar al argumento *ax* el eje."
   ]
  },
  {
   "cell_type": "code",
   "execution_count": null,
   "metadata": {},
   "outputs": [],
   "source": [
    "fig = plt.figure()\n",
    "ax= fig.add_axes([0.5, 0.5, 0.8, 0.8]) # especificamos las dimensiones de los ejes\n",
    "color = sb.color_palette()[6]\n",
    "sb.countplot(data=pkmn, x='Legendary', color=color, ax=ax); # grafica de histograma añadida a la figura"
   ]
  },
  {
   "cell_type": "markdown",
   "metadata": {},
   "source": [
    "Para el ejemplo anterior no era necesario añadir el eje y en la mayoría de los casos se puede utilizar las funciones básicas de matplotlib para esto.  Cada función apunta a fiura o ejes automaticamente.  Veamos ahora el caso de como utilizar subplot()."
   ]
  },
  {
   "cell_type": "code",
   "execution_count": null,
   "metadata": {},
   "outputs": [],
   "source": [
    "plt.figure(figsize=[12,6]) # graficos mas grandes\n",
    "\n",
    "# ejemplo de un bin alto utilizando subplots\n",
    "plt.subplot(1,2,1) # 1 fila, 2 columnas, grafica 1... de 2\n",
    "bins = np.arange(0, pkmn['HP'].max()+5, 5)\n",
    "plt.hist(data=pkmn, x='HP', bins=bins);\n",
    "\n",
    "# ejemplo de un bin bajo utilizando subplots\n",
    "plt.subplot(1,2,2) # 1 fila, 2 columnas, grafica 1... de 2\n",
    "bins = np.arange(0, pkmn['HP'].max()+1, 1)\n",
    "plt.hist(data=pkmn, x='HP', bins=bins);"
   ]
  },
  {
   "cell_type": "markdown",
   "metadata": {},
   "source": [
    "Explcando el código anterior la línea plt.figure() crea una figura de un tamaño en específico, es decir lo aumentamos a 12x6 pulgadas cuadradas.\n",
    "\n",
    "La línea plt.subplot() tiene tres argumentos; total de filas, total de columnas y posicion del gráfico.  El último argumento es entero mayor a 0.\n",
    "\n",
    "Lo demás es conocido, es la manera de graficar.  Veamos una manera de graficar ordenadamente."
   ]
  },
  {
   "cell_type": "code",
   "execution_count": null,
   "metadata": {},
   "outputs": [],
   "source": [
    "fig, axes = plt.subplots(4,3) # enrejado 4x3\n",
    "axes = axes.flatten() # nos da un elemento vector de 12\n",
    "for i in range(12):\n",
    "    plt.sca(axes[i])\n",
    "    plt.text(0.5, 0.5, i+1)"
   ]
  },
  {
   "cell_type": "markdown",
   "metadata": {},
   "source": [
    "Si queremos graficar variables discretas y cuantitativas es posible por medio de un histograma o un bar chart\n",
    "\n",
    "El histograma es el más inmediato porque la data es numérica, pero existe otra consideración particular para seleccionar los recipientes.\n",
    "\n",
    "\n",
    "Com la data apunta a un conjunto de valores establecidos, puede ayudar a reducir esta ambigüedad colocando recipientes esntre lso actuales valores de la data.  Esto elimina confusión cuando se interpreta la data.\n",
    "\n",
    "Compare las visualizaciones de 100 numeros aleatorios, los recipientes en las gráficas izquierda y derecha."
   ]
  },
  {
   "cell_type": "code",
   "execution_count": null,
   "metadata": {},
   "outputs": [],
   "source": [
    "import numpy as np\n",
    "plt.figure(figsize = [10, 5])\n",
    "np.random.seed(42)\n",
    "\n",
    "# histograma superior, recipientes enteros\n",
    "plt.subplot(2, 1, 1)\n",
    "rand = [np.random.random()*12 for _ in range(100)]\n",
    "bins = np.arange(2, 12+1.1, 1.1) # note `+1.1`, see below\n",
    "plt.hist(rand, bins=bins)\n",
    "plt.xticks(np.arange(2, 12+2, 1))\n",
    "\n",
    "# histograma inferior, recipientes entre los recipientes\n",
    "plt.subplot(2, 1, 2)\n",
    "bins = np.arange(1.5, 12.5+1, 1)\n",
    "plt.hist(rand, bins=bins)\n",
    "plt.xticks(np.arange(2, 12+1, 1));"
   ]
  },
  {
   "cell_type": "markdown",
   "metadata": {},
   "source": [
    "Notará del histograma superior e inferior que existen alguns desviaciones de las muestars.\n",
    "\n",
    "Se añade 1.1 al máximo valor de 12 para seleccionar los recipientes, en ves de solo decidir por un valor de límite de 1 adicional.  Observe también que de la gráfica inferior el recipiente se traslada un poc más a la derecha."
   ]
  },
  {
   "cell_type": "markdown",
   "metadata": {},
   "source": [
    "Alternativamente a los histogramas considre si una barra con recipientes no conectados sirve a su propósito.  La gráfica inferior por medio del valor rwidth hace el trabajo."
   ]
  },
  {
   "cell_type": "code",
   "execution_count": null,
   "metadata": {},
   "outputs": [],
   "source": [
    "bins = np.arange(1.5, 12.5+1, 1)\n",
    "plt.hist(rand, bins=bins, rwidth=0.8)\n",
    "plt.xticks(np.arange(2, 12+1, 1));"
   ]
  },
  {
   "cell_type": "markdown",
   "metadata": {},
   "source": [
    "Como verá añadir espacios entre gráficos se observa mejor el valor discretamente.  Por otro lado, se puede malinterpretar que la data cuantitativa se interprete como ordinal, lo cual hace que se pierda un poco la precisión.\n",
    "\n",
    "Para data numérica no recomendamos utilizar este parámetro, tampoco countplot es buena opción.  En este caso es mejor utilizar un bar chart."
   ]
  },
  {
   "cell_type": "markdown",
   "metadata": {},
   "source": [
    "#### Estadistica Descriptiva, Límites de ejes y valores atípicos (outliers)\n",
    "\n",
    "Los gráficos son de gran ayida porque nos dicen si los tipos de datos son simetricos, tirados hacia la izq/der\n",
    "\n",
    "<img src=\"imgs/descriptivestats.PNG\" width=\"40%\" align=\"left\" />\n",
    "<img src=\"imgs/modality.PNG\" width=\"60%\" align=\"right\" />"
   ]
  },
  {
   "cell_type": "markdown",
   "metadata": {},
   "source": [
    "Categorizar en un gráfico de barra con bajas cuentas puede apuntar a errores en los datos.  Datos inesperado pueden ser que necesite mas análisis o revisión de datos."
   ]
  },
  {
   "cell_type": "markdown",
   "metadata": {},
   "source": [
    "<img src=\"imgs/furtherinv.PNG\" />"
   ]
  },
  {
   "cell_type": "markdown",
   "metadata": {},
   "source": [
    "Por ejemplo, del gráfico anterior generado a mano debemos investigar el resultado de 1.5 es correcto o el resultado de 0.5 es algo corrupto.\n",
    "\n",
    "Se debe también investigar sobre los outliers o valores atípicos que representan un problema para análisis de modelos.  También probablemente te interese tener acceso o acercar fuera de estos valores atípicos para ver si se tiene alguna mejor vista de la data.\n",
    "\n",
    "También de lo anterior podría ser que el valor entre 0 a 1 es un valor atípico que podría ser tratado o eliminado.  Podemos también cambiar el valor o espectro de los recipientes para acercarnos a ver más los datos."
   ]
  },
  {
   "cell_type": "code",
   "execution_count": null,
   "metadata": {},
   "outputs": [],
   "source": [
    "attack = pkmn.HP\n",
    "maxattack = attack.max()\n",
    "bins = np.arange(0, maxattack+1, 5)\n",
    "plt.hist(data=pkmn, x='HP', bins=bins);"
   ]
  },
  {
   "cell_type": "markdown",
   "metadata": {},
   "source": [
    "Digamos que queremos ver la zona de 110 en adelante para ver si es significativa (lo cual no lo es)"
   ]
  },
  {
   "cell_type": "code",
   "execution_count": null,
   "metadata": {
    "scrolled": false
   },
   "outputs": [],
   "source": [
    "bins = np.arange(0, maxattack+1, 5)\n",
    "plt.hist(data=pkmn, x='HP', bins=bins)\n",
    "plt.xlim((110, 220))\n",
    "plt.ylim((0, 20))"
   ]
  },
  {
   "cell_type": "markdown",
   "metadata": {},
   "source": [
    "#### Escalado y transformaciones\n",
    "\n",
    "Existen casos donde queremos no solo hacer \"zoom\" a la data sino también escalarla.  A pesar de todo, recuerde que la data debe representarse linealmente.\n",
    "\n",
    "En otros casos debe estar presente por porcentajes por ejemplo.  Si graficaramos los precios de diferentes costos de la misma carrera de las universidades, vieramos que en un total, todas estan tendientes a la derecha (asumiendo que a la derecha cuesta más una carrera).\n",
    "\n",
    "Por consiguiente lo que se realiza normalmente, pues la data no se puede analizar correctamente es un grafico logarítmico.  En este apartado utilizaremos un log normalizado.  Dato importante es que todos los datos deben ser positivos antes de aplicar un gráfico logaritmico.\n",
    "\n",
    "Normalmente cuando los valores son muy altos se hace este tipo de transformación, es para una mejor visualización."
   ]
  },
  {
   "cell_type": "code",
   "execution_count": null,
   "metadata": {},
   "outputs": [],
   "source": [
    "topic = 'Sp. Atk'\n",
    "bins = np.arange(0, pkmn[topic].max()+10, 10)\n",
    "plt.hist(data=pkmn, x=topic, bins=bins);"
   ]
  },
  {
   "cell_type": "markdown",
   "metadata": {},
   "source": [
    "Digamos que nuestra data, que se encuentra un poco tirada para la izquierda queremos transformarla, lo haremos por medio de la función de matplotlib xscale"
   ]
  },
  {
   "cell_type": "code",
   "execution_count": null,
   "metadata": {},
   "outputs": [],
   "source": [
    "topic = 'Sp. Atk'\n",
    "bins = np.arange(0, pkmn[topic].max()+10, 10)\n",
    "plt.hist(data=pkmn, x=topic, bins=bins)\n",
    "plt.xscale('log');"
   ]
  },
  {
   "cell_type": "markdown",
   "metadata": {},
   "source": [
    "Para cubrir mejor el espectro, pues ahora parece más tirada hacia la derecha, veamos la descripción de los datos"
   ]
  },
  {
   "cell_type": "code",
   "execution_count": null,
   "metadata": {},
   "outputs": [],
   "source": [
    "np.log10(pkmn[topic].describe())"
   ]
  },
  {
   "cell_type": "markdown",
   "metadata": {},
   "source": [
    "Viendo los máximos y mínimos nos da los rangos de la gráfica y escalamos nuestro histograma a este conjunto de datos."
   ]
  },
  {
   "cell_type": "code",
   "execution_count": null,
   "metadata": {},
   "outputs": [],
   "source": [
    "topic = 'Sp. Atk'\n",
    "bins = 10**np.arange(1, 2.3+.1, .1)\n",
    "plt.hist(data=pkmn, x=topic, bins=bins)\n",
    "plt.xscale('log');"
   ]
  },
  {
   "cell_type": "markdown",
   "metadata": {},
   "source": [
    "Para mejorar los valores en rango solamente utilizamos tick que den el espaciamient logarítmico entre estos datos... "
   ]
  },
  {
   "cell_type": "code",
   "execution_count": null,
   "metadata": {},
   "outputs": [],
   "source": [
    "topic = 'Sp. Atk'\n",
    "bins = 10**np.arange(1, 2.3+.1, .1)\n",
    "plt.hist(data=pkmn, x=topic, bins=bins)\n",
    "ticks = [10, 30, 100, 300]\n",
    "lbls = ['{}'.format(v) for v in ticks]\n",
    "plt.xscale('log')\n",
    "plt.xticks(ticks, lbls);"
   ]
  },
  {
   "cell_type": "markdown",
   "metadata": {},
   "source": [
    "### Estimación de Densidad de Kernel\n",
    "\n",
    "Anteriormente vimos que seaborn ofrece esta opción por medio de un distplot()."
   ]
  },
  {
   "cell_type": "code",
   "execution_count": null,
   "metadata": {},
   "outputs": [],
   "source": [
    "sb.distplot(pkmn[topic])"
   ]
  },
  {
   "cell_type": "markdown",
   "metadata": {},
   "source": [
    "Vemos entonces la función de probabilidad de densidad aproximada o KDE.  Note que el gráfico de kernel trata de tocar los bins de alguna manera representándolos.  Podemos entonces tener un KDE plot.  La función de distplot() llama a la funcion kdeplot() que genera el gráfico sobre la función de distribución.\n",
    "\n",
    "Veamos entonces la función rugplot como tercera opción tambien."
   ]
  },
  {
   "cell_type": "code",
   "execution_count": null,
   "metadata": {},
   "outputs": [],
   "source": [
    "data = [0.0, 1.0, 2.5, 4.0]\n",
    "plt.figure(figsize = [12, 5])\n",
    "\n",
    "# grafico izquierdo kde plot\n",
    "plt.subplot(1, 3, 1)\n",
    "sb.distplot(data,\n",
    "            hist=False,\n",
    "            rug=True,\n",
    "            rug_kws={'color':'r'})\n",
    "\n",
    "# central: kde con banda estrecha y probabilidades individuales\n",
    "plt.subplot(1, 3, 2)\n",
    "sb.distplot(data, \n",
    "            hist=False, \n",
    "            rug=True, \n",
    "            rug_kws={'color':'r'},\n",
    "            kde_kws = {'bw' : 0.3})\n",
    "\n",
    "# derecha: escogemos un kernel triangular\n",
    "plt.subplot(1, 3, 3)\n",
    "sb.distplot(data, \n",
    "            hist=False, \n",
    "            rug=True, \n",
    "            rug_kws = {'color':'r'}, \n",
    "            kde_kws = {'bw': 1.2, 'kernel' : 'tri'})"
   ]
  },
  {
   "cell_type": "markdown",
   "metadata": {},
   "source": [
    "Interpretar esta gráfica es un poco complicado, más que el histograma estándar.  Prácticamente lo que marca en rojo es que el área bajo la curva cae dentro de esos valores.\n",
    "\n",
    "Existen las razones para utilizar KDE.  Si existen pocos puntos KDE provee un acercamiento suave a la estimacion de valores de la data.\n",
    "\n",
    "Tambien hay que tener cuidado con los valores de ancho de banda pues un valor muy bajo puede hacer que el gráfico se vea ruidos o con muchos picos y zonas sin marcar."
   ]
  },
  {
   "cell_type": "markdown",
   "metadata": {},
   "source": [
    "#### Gráficos Waffle\n",
    "\n",
    "Otra alternativa son los waffle plot, que no es más que un gráfico de pie cuadrado.  Un waffle plot se divide en un cuadrado 10x10 donde cada uno de los cuadros representa los tipos de datos.  Comparado con el gráfico de pie es más sencillo sacar conclusiones.\n",
    "\n",
    "No existe función para esto, hay que crearla."
   ]
  },
  {
   "cell_type": "code",
   "execution_count": null,
   "metadata": {},
   "outputs": [],
   "source": [
    "\n",
    "def percentage_blocks(df, var):\n",
    "    \"\"\"\n",
    "    Take as input a dataframe and variable, and return a Pandas series with\n",
    "    approximate percentage values for filling out a waffle plot.\n",
    "    \"\"\"\n",
    "    # compute base quotas\n",
    "    percentages = 100 * df[var].value_counts() / df.shape[0]\n",
    "    counts = np.floor(percentages).astype(int) # integer part = minimum quota\n",
    "    decimal = (percentages - counts).sort_values(ascending = False)\n",
    "\n",
    "    # añade las cuenas hasta llegar a 100\n",
    "    rem = 100 - counts.sum()\n",
    "    for cat in decimal.index[:rem]:\n",
    "        counts[cat] += 1\n",
    "    return counts"
   ]
  },
  {
   "cell_type": "code",
   "execution_count": null,
   "metadata": {},
   "outputs": [],
   "source": [
    "waffle_counts = percentage_blocks(pkmn, 'Type 1')\n",
    "\n",
    "prev_count = 0\n",
    "# para cada categoria\n",
    "for cat in range(waffle_counts.shape[0]):\n",
    "    # tomamos los indices de las cajas negras\n",
    "    blocks = np.arange(prev_count, prev_count + waffle_counts[cat])\n",
    "    # los ponemos en la ubicacion x,y\n",
    "    x = blocks % 10 # digito\n",
    "    y = blocks // 10 # decenas\n",
    "    plt.bar(x = x, height = 0.8, width = 0.8, bottom = y)\n",
    "    prev_count += waffle_counts[cat]\n",
    "\n",
    "# visualizacion\n",
    "plt.legend(waffle_counts.index, bbox_to_anchor = (1, 0.5), loc = 6)\n",
    "plt.axis('off')\n",
    "plt.axis('square');"
   ]
  },
  {
   "cell_type": "code",
   "execution_count": null,
   "metadata": {},
   "outputs": [],
   "source": [
    "# cada caja representa un grupo de 5 pasos\n",
    "waffle_counts = (pkmn['Type 1'].value_counts() / 5).astype(int)\n",
    "\n",
    "prev_count = 0\n",
    "# para cada categoria\n",
    "for cat in range(waffle_counts.shape[0]):\n",
    "    # tomamos los bloques en los idnices\n",
    "    blocks = np.arange(prev_count, prev_count + waffle_counts[cat])\n",
    "    # los ponemos en su ubicacion\n",
    "    x = blocks % 10\n",
    "    y = blocks // 10\n",
    "    plt.bar(y, 0.8, 0.8, x)\n",
    "    prev_count += waffle_counts[cat]\n",
    "\n",
    "# visualizamos\n",
    "plt.bar(7, 0.8, 0.8, 10, color='white', edgecolor='black', lw=2)\n",
    "plt.text(8, 10.5,'= 5 data points', va = 'top')\n",
    "\n",
    "plt.legend(waffle_counts.index, bbox_to_anchor = (1, 0), loc = 6)\n",
    "plt.axis('off')\n",
    "plt.axis('square');"
   ]
  },
  {
   "cell_type": "markdown",
   "metadata": {},
   "source": [
    "#### Intentelo Ud."
   ]
  },
  {
   "cell_type": "markdown",
   "metadata": {},
   "source": [
    "Utilizando los datos de pokemon generar una gráfica que sumarice todas las generaciones de pokemon"
   ]
  },
  {
   "cell_type": "code",
   "execution_count": null,
   "metadata": {
    "scrolled": false
   },
   "outputs": [],
   "source": [
    "plt.figure(figsize=(14,8))\n",
    "sb.countplot(data=pkmn, x='Generation')\n",
    "plt.show()"
   ]
  },
  {
   "cell_type": "markdown",
   "metadata": {},
   "source": [
    "Respuesta Esperada:\n",
    "\n",
    "<img src=\"imgs/pkmngen.PNG\" align=\"left\" />"
   ]
  },
  {
   "cell_type": "markdown",
   "metadata": {},
   "source": [
    "Cambie de color las barras a púrpura"
   ]
  },
  {
   "cell_type": "code",
   "execution_count": null,
   "metadata": {},
   "outputs": [],
   "source": [
    "sb.color_palette()\n",
    "color = sb.color_palette()[4]\n",
    "plt.figure(figsize=(30,10))\n",
    "sb.countplot(data=pkmn, x='Generation', color=color)\n",
    "plt.show()"
   ]
  },
  {
   "cell_type": "markdown",
   "metadata": {},
   "source": [
    "Respuesta Esperada:\n",
    "\n",
    "<img src=\"imgs/pkmngenpurple.PNG\" align=\"left\" />"
   ]
  },
  {
   "cell_type": "markdown",
   "metadata": {},
   "source": [
    "Haga que el eje de generación sea el *y* e imprima los porcentajes dentro de las barrras."
   ]
  },
  {
   "cell_type": "code",
   "execution_count": 126,
   "metadata": {
    "scrolled": true
   },
   "outputs": [
    {
     "name": "stdout",
     "output_type": "stream",
     "text": [
      "       #               Name   Gen_level  Generation\n",
      "100   93            Haunter  Generation           1\n",
      "101   94             Gengar  Generation           1\n",
      "102   94  GengarMega Gengar  Generation           1\n",
      "103   95               Onix  Generation           1\n",
      "104   96            Drowzee  Generation           1\n",
      "105   97              Hypno  Generation           1\n",
      "106   98             Krabby  Generation           1\n",
      "107   99            Kingler  Generation           1\n",
      "108  100            Voltorb  Generation           1\n",
      "109  101          Electrode  Generation           1\n",
      "\n",
      "1    166\n",
      "5    165\n",
      "3    160\n",
      "4    121\n",
      "2    106\n",
      "6     82\n",
      "Name: Generation, dtype: int64\n",
      "800\n",
      "166\n",
      "\n",
      "0.2075 800\n",
      "[0.   0.01 0.02 0.03 0.04 0.05 0.06 0.07 0.08 0.09 0.1  0.11 0.12 0.13\n",
      " 0.14 0.15 0.16 0.17 0.18 0.19 0.2 ]\n",
      "1    166\n",
      "5    165\n",
      "3    160\n",
      "4    121\n",
      "2    106\n",
      "6     82\n",
      "Name: Generation, dtype: int64 800\n",
      "\n"
     ]
    },
    {
     "data": {
      "image/png": "[encoded data removed]",
      "text/plain": [
       "<Figure size 1080x576 with 1 Axes>"
      ]
     },
     "metadata": {
      "needs_background": "light"
     },
     "output_type": "display_data"
    }
   ],
   "source": [
    "pkmn_gen = pkmn.melt(id_vars=['#', 'Name'], \n",
    "                         value_vars=['Generation'], \n",
    "                         var_name='Gen_level', \n",
    "                         value_name='Generation').dropna()\n",
    "\n",
    "print( pkmn_gen[100:110])\n",
    "print()\n",
    "Gen_cnt = pkmn_gen['Generation'].value_counts()\n",
    "order = Gen_cnt.index\n",
    "npkmn = Gen_cnt.values.sum()\n",
    "print(Gen_cnt)\n",
    "print(npkmn)\n",
    "max_Gen_cnt = Gen_cnt[1]\n",
    "print(max_Gen_cnt)\n",
    "maxprop = max_Gen_cnt/npkmn\n",
    "print()\n",
    "print (maxprop, npkmn)\n",
    "tick_props = np.arange(0, maxprop, 0.01)\n",
    "print(tick_props)\n",
    "tick_names = ['{:0.2f}'.format(a) for a in tick_props]\n",
    "print(Gen_cnt, Gen_cnt.values.sum())\n",
    "sb.color_palette()\n",
    "color = sb.color_palette()[4]\n",
    "plt.figure(figsize=(15,8))\n",
    "sb.countplot(data=pkmn_gen, y='Generation', color=color, order=order)\n",
    "plt.xticks(tick_props*npkmn, tick_names)\n",
    "plt.xlabel('proportion');\n",
    "print()\n",
    "\n"
   ]
  },
  {
   "cell_type": "code",
   "execution_count": 140,
   "metadata": {},
   "outputs": [
    {
     "data": {
      "image/png": "[encoded data removed]",
      "text/plain": [
       "<Figure size 1008x360 with 1 Axes>"
      ]
     },
     "metadata": {
      "needs_background": "light"
     },
     "output_type": "display_data"
    }
   ],
   "source": [
    "plt.figure(figsize=(14,5))\n",
    "sb.countplot(data=pkmn_gen, y='Generation', color=color)\n",
    "for i in range(len(Gen_cnt)):\n",
    "    cnt=Gen_cnt[i+1]\n",
    "    pcnt = '{:0.1f}%'.format(100*cnt/npkmn)\n",
    "    plt.text(cnt, i, pcnt, va='center')\n"
   ]
  },
  {
   "cell_type": "markdown",
   "metadata": {},
   "source": [
    "Respuesta Esperada:\n",
    "\n",
    "<img src=\"imgs/pkmngenpcnt.PNG\" align=\"left\" />"
   ]
  },
  {
   "cell_type": "markdown",
   "metadata": {},
   "source": [
    "Generar un gráfico de dona de la columna 'Legendary' con *ancho* 0.4, partiendo de 90° CC."
   ]
  },
  {
   "cell_type": "code",
   "execution_count": 4,
   "metadata": {
    "scrolled": true
   },
   "outputs": [
    {
     "data": {
      "image/png": "[encoded data removed]",
      "text/plain": [
       "<Figure size 432x288 with 1 Axes>"
      ]
     },
     "metadata": {},
     "output_type": "display_data"
    }
   ],
   "source": [
    "import numpy as np\n",
    "import pandas as pd\n",
    "import matplotlib.pyplot as plt\n",
    "import seaborn as sb\n",
    "\n",
    "%matplotlib inline\n",
    "pkmn = pd.read_csv(r'C:\\Users\\dell\\Desktop\\Ulatina\\AI\\ArtificialIntelligence-master\\ArtificialIntelligence-master\\Prerequisitos\\data\\Pokemon.csv')\n",
    "pkmn.head()\n",
    "LegendaryPkmn = pkmn['Legendary'].value_counts()\n",
    "plt.pie(LegendaryPkmn, labels=LegendaryPkmn.index, startangle=90, counterclock=True, wedgeprops={'width':0.4})\n",
    "plt.axis('square');"
   ]
  },
  {
   "cell_type": "markdown",
   "metadata": {},
   "source": [
    "Respuesta Esperada:\n",
    "\n",
    "<img src=\"imgs/pkmnleg.PNG\" align=\"left\" />"
   ]
  },
  {
   "cell_type": "code",
   "execution_count": null,
   "metadata": {},
   "outputs": [],
   "source": []
  }
 ],
 "metadata": {
  "kernelspec": {
   "display_name": "Python 3",
   "language": "python",
   "name": "python3"
  },
  "language_info": {
   "codemirror_mode": {
    "name": "ipython",
    "version": 3
   },
   "file_extension": ".py",
   "mimetype": "text/x-python",
   "name": "python",
   "nbconvert_exporter": "python",
   "pygments_lexer": "ipython3",
   "version": "3.8.3"
  }
 },
 "nbformat": 4,
 "nbformat_minor": 4
}
